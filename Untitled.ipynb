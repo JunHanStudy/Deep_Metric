{
 "cells": [
  {
   "cell_type": "code",
   "execution_count": 1,
   "metadata": {
    "collapsed": true
   },
   "outputs": [],
   "source": [
    "import os\n",
    "os.environ['CUDA_VISIBLE_DEVICES']='6'"
   ]
  },
  {
   "cell_type": "code",
   "execution_count": 2,
   "metadata": {},
   "outputs": [
    {
     "name": "stdout",
     "output_type": "stream",
     "text": [
      "evaluation on test set of car with model: checkpoints/car_m_01_1e5_n_8_b_128/200_model.pkl\n"
     ]
    },
    {
     "name": "stderr",
     "output_type": "stream",
     "text": [
      "/home/wangxun/.local/lib/python2.7/site-packages/torchvision/transforms/transforms.py:156: UserWarning: The use of the transforms.Scale transform is deprecated, please use transforms.Resize instead.\n",
      "  \"please use transforms.Resize instead.\")\n",
      "/home/wangxun/.local/lib/python2.7/site-packages/torchvision/transforms/transforms.py:397: UserWarning: The use of the transforms.RandomSizedCrop transform is deprecated, please use transforms.RandomResizedCrop instead.\n",
      "  \"please use transforms.RandomResizedCrop instead.\")\n"
     ]
    },
    {
     "name": "stdout",
     "output_type": "stream",
     "text": [
      "Extract Features: [20/128]\tTime 1.033 (1.106)\tData 0.971 (0.929)\t\n",
      "Extract Features: [40/128]\tTime 0.612 (0.933)\tData 0.551 (0.813)\t\n",
      "Extract Features: [60/128]\tTime 1.939 (1.050)\tData 1.873 (0.949)\t\n",
      "Extract Features: [80/128]\tTime 0.746 (1.239)\tData 0.677 (1.147)\t\n",
      "Extract Features: [100/128]\tTime 1.372 (1.280)\tData 1.306 (1.193)\t\n",
      "Extract Features: [120/128]\tTime 1.646 (1.245)\tData 1.580 (1.161)\t\n",
      "[ 0.59943426  0.71676301  0.81810355  0.8867298 ]\n"
     ]
    }
   ],
   "source": [
    "import torch\n",
    "# import argparse\n",
    "import torch.utils.data\n",
    "from torch.backends import cudnn\n",
    "\n",
    "from evaluations import extract_features, pairwise_similarity\n",
    "from evaluations import Recall_at_ks\n",
    "import DataSet\n",
    "# from utils import RandomIdentitySampler\n",
    "test = 1\n",
    "\n",
    "model_path = 'checkpoints/car_m_01_1e5_n_8_b_128/200_model.pkl'\n",
    "cudnn.benchmark = True\n",
    "\n",
    "# model = inception_v3(dropout=0.5)\n",
    "model = torch.load(model_path)\n",
    "model = model.cuda()\n",
    "data = 'car'\n",
    "if test == 1:\n",
    "    print('evaluation on test set of %s with model: %s' %(data, model_path))\n",
    "    data = DataSet.create(data, train=False)\n",
    "    data_loader = torch.utils.data.DataLoader(\n",
    "        data.test, batch_size=64, shuffle=False, drop_last=False)\n",
    "else:\n",
    "    print('evaluation on train set of %s with model: %s' %(data, model_path))\n",
    "    data = DataSet.create(data, test=False)\n",
    "    data_loader = torch.utils.data.DataLoader(\n",
    "        data.train, batch_size=64, shuffle=False, drop_last=False)\n",
    "\n",
    "\n",
    "\n",
    "features, labels = extract_features(model, data_loader, print_freq=20, metric=None)\n",
    "\n",
    "\n",
    "# print(len(features))\n",
    "sim_mat = pairwise_similarity(features)\n",
    "print(Recall_at_ks(sim_mat, query_ids=labels, gallery_ids=labels))"
   ]
  },
  {
   "cell_type": "code",
   "execution_count": null,
   "metadata": {
    "collapsed": true
   },
   "outputs": [],
   "source": [
    "print(Recall_at_ks(sim_mat, query_ids=labels, gallery_ids=labels))"
   ]
  },
  {
   "cell_type": "code",
   "execution_count": 6,
   "metadata": {},
   "outputs": [
    {
     "name": "stdout",
     "output_type": "stream",
     "text": [
      "Extract Features: [20/128]\tTime 0.948 (1.164)\tData 0.882 (1.098)\t\n",
      "Extract Features: [40/128]\tTime 0.625 (0.960)\tData 0.561 (0.895)\t\n",
      "Extract Features: [60/128]\tTime 2.179 (1.010)\tData 2.114 (0.945)\t\n",
      "Extract Features: [80/128]\tTime 0.789 (1.047)\tData 0.723 (0.982)\t\n",
      "Extract Features: [100/128]\tTime 1.442 (1.115)\tData 1.378 (1.050)\t\n",
      "Extract Features: [120/128]\tTime 1.498 (1.123)\tData 1.433 (1.058)\t\n",
      "[ 0.63177961  0.74283606  0.83236994  0.89570779]\n"
     ]
    }
   ],
   "source": [
    "model_path = 'checkpoints/car_m_01_1e5_n_8_b_128/300_model.pkl'\n",
    "\n",
    "# model = inception_v3(dropout=0.5)\n",
    "model = torch.load(model_path)\n",
    "model = model.cuda()\n",
    "\n",
    "features, labels = extract_features(model, data_loader, print_freq=20, metric=None)\n",
    "\n",
    "\n",
    "# print(len(features))\n",
    "sim_mat = pairwise_similarity(features)\n",
    "print(Recall_at_ks(sim_mat, query_ids=labels, gallery_ids=labels))"
   ]
  },
  {
   "cell_type": "code",
   "execution_count": 7,
   "metadata": {},
   "outputs": [
    {
     "name": "stdout",
     "output_type": "stream",
     "text": [
      "Extract Features: [20/128]\tTime 0.972 (1.154)\tData 0.907 (1.089)\t\n",
      "Extract Features: [40/128]\tTime 0.813 (0.997)\tData 0.748 (0.931)\t\n",
      "Extract Features: [60/128]\tTime 2.144 (1.043)\tData 2.079 (0.977)\t\n",
      "Extract Features: [80/128]\tTime 0.715 (1.088)\tData 0.651 (1.023)\t\n",
      "Extract Features: [100/128]\tTime 1.338 (1.302)\tData 1.274 (1.236)\t\n",
      "Extract Features: [120/128]\tTime 1.477 (1.264)\tData 1.412 (1.199)\t\n",
      "[ 0.63633009  0.74898536  0.83200098  0.89398598]\n"
     ]
    }
   ],
   "source": [
    "model_path = 'checkpoints/car_m_01_1e5_n_8_b_128/400_model.pkl'\n",
    "\n",
    "# model = inception_v3(dropout=0.5)\n",
    "model = torch.load(model_path)\n",
    "model = model.cuda()\n",
    "\n",
    "features, labels = extract_features(model, data_loader, print_freq=20, metric=None)\n",
    "\n",
    "\n",
    "# print(len(features))\n",
    "sim_mat = pairwise_similarity(features)\n",
    "print(Recall_at_ks(sim_mat, query_ids=labels, gallery_ids=labels))"
   ]
  },
  {
   "cell_type": "code",
   "execution_count": 8,
   "metadata": {},
   "outputs": [
    {
     "name": "stdout",
     "output_type": "stream",
     "text": [
      "Extract Features: [20/128]\tTime 0.837 (0.929)\tData 0.772 (0.864)\t\n",
      "Extract Features: [40/128]\tTime 0.683 (0.883)\tData 0.618 (0.818)\t\n",
      "Extract Features: [60/128]\tTime 1.954 (0.940)\tData 1.888 (0.875)\t\n",
      "Extract Features: [80/128]\tTime 0.828 (1.009)\tData 0.763 (0.944)\t\n",
      "Extract Features: [100/128]\tTime 1.485 (1.109)\tData 1.420 (1.044)\t\n",
      "Extract Features: [120/128]\tTime 1.625 (1.118)\tData 1.557 (1.053)\t\n",
      "[ 0.64924364  0.7601771   0.84380765  0.90185709]\n"
     ]
    }
   ],
   "source": [
    "model_path = 'checkpoints/car_m_01_1e5_n_8_b_128/500_model.pkl'\n",
    "\n",
    "# model = inception_v3(dropout=0.5)\n",
    "model = torch.load(model_path)\n",
    "model = model.cuda()\n",
    "\n",
    "features, labels = extract_features(model, data_loader, print_freq=20, metric=None)\n",
    "\n",
    "\n",
    "# print(len(features))\n",
    "sim_mat = pairwise_similarity(features)\n",
    "print(Recall_at_ks(sim_mat, query_ids=labels, gallery_ids=labels))"
   ]
  },
  {
   "cell_type": "code",
   "execution_count": 9,
   "metadata": {},
   "outputs": [
    {
     "name": "stdout",
     "output_type": "stream",
     "text": [
      "Extract Features: [20/128]\tTime 0.836 (0.954)\tData 0.771 (0.889)\t\n",
      "Extract Features: [40/128]\tTime 0.683 (0.887)\tData 0.618 (0.821)\t\n",
      "Extract Features: [60/128]\tTime 4.380 (1.214)\tData 4.315 (1.149)\t\n",
      "Extract Features: [80/128]\tTime 0.672 (1.191)\tData 0.607 (1.125)\t\n",
      "Extract Features: [100/128]\tTime 1.251 (1.233)\tData 1.187 (1.168)\t\n",
      "Extract Features: [120/128]\tTime 1.473 (1.228)\tData 1.408 (1.163)\t\n",
      "[ 0.65342516  0.76214488  0.84110196  0.90099619]\n"
     ]
    }
   ],
   "source": [
    "model_path = 'checkpoints/car_m_01_1e5_n_8_b_128/600_model.pkl'\n",
    "\n",
    "# model = inception_v3(dropout=0.5)\n",
    "model = torch.load(model_path)\n",
    "model = model.cuda()\n",
    "\n",
    "features, labels = extract_features(model, data_loader, print_freq=20, metric=None)\n",
    "\n",
    "\n",
    "# print(len(features))\n",
    "sim_mat = pairwise_similarity(features)\n",
    "print(Recall_at_ks(sim_mat, query_ids=labels, gallery_ids=labels))"
   ]
  },
  {
   "cell_type": "code",
   "execution_count": 10,
   "metadata": {},
   "outputs": [
    {
     "name": "stdout",
     "output_type": "stream",
     "text": [
      "Extract Features: [20/128]\tTime 0.820 (0.992)\tData 0.756 (0.927)\t\n",
      "Extract Features: [40/128]\tTime 0.681 (0.886)\tData 0.616 (0.821)\t\n",
      "Extract Features: [60/128]\tTime 2.076 (1.030)\tData 2.011 (0.964)\t\n",
      "Extract Features: [80/128]\tTime 0.825 (1.069)\tData 0.760 (1.004)\t\n",
      "Extract Features: [100/128]\tTime 6.957 (1.290)\tData 6.891 (1.224)\t\n",
      "Extract Features: [120/128]\tTime 1.772 (1.258)\tData 1.704 (1.193)\t\n",
      "[ 0.64702989  0.75710245  0.84097897  0.90284098]\n"
     ]
    }
   ],
   "source": [
    "model_path = 'checkpoints/car_m_01_1e5_n_8_b_128/700_model.pkl'\n",
    "\n",
    "# model = inception_v3(dropout=0.5)\n",
    "model = torch.load(model_path)\n",
    "model = model.cuda()\n",
    "\n",
    "features, labels = extract_features(model, data_loader, print_freq=20, metric=None)\n",
    "\n",
    "\n",
    "# print(len(features))\n",
    "sim_mat = pairwise_similarity(features)\n",
    "print(Recall_at_ks(sim_mat, query_ids=labels, gallery_ids=labels))"
   ]
  },
  {
   "cell_type": "code",
   "execution_count": null,
   "metadata": {
    "collapsed": true
   },
   "outputs": [],
   "source": []
  }
 ],
 "metadata": {
  "kernelspec": {
   "display_name": "Python 2",
   "language": "python",
   "name": "python2"
  },
  "language_info": {
   "codemirror_mode": {
    "name": "ipython",
    "version": 2
   },
   "file_extension": ".py",
   "mimetype": "text/x-python",
   "name": "python",
   "nbconvert_exporter": "python",
   "pygments_lexer": "ipython2",
   "version": "2.7.5"
  }
 },
 "nbformat": 4,
 "nbformat_minor": 2
}
