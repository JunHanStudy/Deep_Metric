{
 "cells": [
  {
   "cell_type": "code",
   "execution_count": 1,
   "metadata": {
    "collapsed": true
   },
   "outputs": [],
   "source": [
    "import os\n",
    "os.environ['CUDA_VISIBLE_DEVICES']='6'"
   ]
  },
  {
   "cell_type": "code",
   "execution_count": 2,
   "metadata": {},
   "outputs": [
    {
     "name": "stdout",
     "output_type": "stream",
     "text": [
      "evaluation on test set of cub with model: checkpoints/cub_m_01_1e5_n_8_b_128/400_model.pkl\n"
     ]
    },
    {
     "name": "stderr",
     "output_type": "stream",
     "text": [
      "/home/wangxun/.local/lib/python2.7/site-packages/torchvision/transforms/transforms.py:156: UserWarning: The use of the transforms.Scale transform is deprecated, please use transforms.Resize instead.\n",
      "  \"please use transforms.Resize instead.\")\n",
      "/home/wangxun/.local/lib/python2.7/site-packages/torchvision/transforms/transforms.py:397: UserWarning: The use of the transforms.RandomSizedCrop transform is deprecated, please use transforms.RandomResizedCrop instead.\n",
      "  \"please use transforms.RandomResizedCrop instead.\")\n"
     ]
    },
    {
     "name": "stdout",
     "output_type": "stream",
     "text": [
      "Extract Features: [3/93]\tTime 0.907 (2.427)\tData 0.841 (1.429)\t\n",
      "Extract Features: [6/93]\tTime 0.697 (1.535)\tData 0.631 (1.003)\t\n",
      "Extract Features: [9/93]\tTime 2.770 (1.595)\tData 2.703 (1.217)\t\n",
      "Extract Features: [12/93]\tTime 0.849 (1.421)\tData 0.783 (1.122)\t\n",
      "Extract Features: [15/93]\tTime 0.824 (1.333)\tData 0.758 (1.080)\t\n",
      "Extract Features: [18/93]\tTime 0.654 (1.216)\tData 0.587 (0.994)\t\n",
      "Extract Features: [21/93]\tTime 0.654 (1.136)\tData 0.588 (0.936)\t\n",
      "Extract Features: [24/93]\tTime 0.638 (1.077)\tData 0.572 (0.894)\t\n",
      "Extract Features: [27/93]\tTime 0.957 (1.087)\tData 0.891 (0.917)\t\n",
      "Extract Features: [30/93]\tTime 4.671 (1.186)\tData 4.603 (1.026)\t\n",
      "Extract Features: [33/93]\tTime 0.660 (1.149)\tData 0.593 (0.998)\t\n",
      "Extract Features: [36/93]\tTime 0.685 (1.121)\tData 0.618 (0.977)\t\n",
      "Extract Features: [39/93]\tTime 0.678 (1.085)\tData 0.611 (0.947)\t\n",
      "Extract Features: [42/93]\tTime 0.593 (1.052)\tData 0.525 (0.918)\t\n",
      "Extract Features: [45/93]\tTime 0.763 (1.040)\tData 0.696 (0.911)\t\n",
      "Extract Features: [48/93]\tTime 0.625 (1.014)\tData 0.560 (0.889)\t\n",
      "Extract Features: [51/93]\tTime 0.618 (0.991)\tData 0.552 (0.869)\t\n",
      "Extract Features: [54/93]\tTime 0.694 (0.971)\tData 0.628 (0.853)\t\n",
      "Extract Features: [57/93]\tTime 0.655 (0.954)\tData 0.589 (0.839)\t\n",
      "Extract Features: [60/93]\tTime 0.636 (0.937)\tData 0.570 (0.824)\t\n",
      "Extract Features: [63/93]\tTime 0.582 (0.921)\tData 0.516 (0.810)\t\n",
      "Extract Features: [66/93]\tTime 0.620 (0.907)\tData 0.554 (0.798)\t\n",
      "Extract Features: [69/93]\tTime 0.778 (0.898)\tData 0.712 (0.791)\t\n",
      "Extract Features: [72/93]\tTime 0.644 (0.888)\tData 0.579 (0.783)\t\n",
      "Extract Features: [75/93]\tTime 0.581 (0.877)\tData 0.514 (0.774)\t\n",
      "Extract Features: [78/93]\tTime 0.580 (0.868)\tData 0.514 (0.766)\t\n",
      "Extract Features: [81/93]\tTime 0.626 (0.859)\tData 0.560 (0.759)\t\n",
      "Extract Features: [84/93]\tTime 0.636 (0.851)\tData 0.570 (0.752)\t\n",
      "Extract Features: [87/93]\tTime 0.630 (0.844)\tData 0.563 (0.746)\t\n",
      "Extract Features: [90/93]\tTime 0.613 (0.837)\tData 0.548 (0.739)\t\n",
      "Extract Features: [93/93]\tTime 1.625 (0.841)\tData 0.308 (0.731)\t\n",
      "[ 0.53  0.66  0.77  0.89]\n"
     ]
    }
   ],
   "source": [
    "import torch\n",
    "# import argparse\n",
    "import torch.utils.data\n",
    "from torch.backends import cudnn\n",
    "\n",
    "from evaluations import extract_features, pairwise_similarity\n",
    "from evaluations import Recall_at_ks\n",
    "import DataSet\n",
    "# from utils import RandomIdentitySampler\n",
    "test = 1\n",
    "\n",
    "model_path = 'checkpoints/cub_m_01_1e5_n_8_b_128/400_model.pkl'\n",
    "cudnn.benchmark = True\n",
    "\n",
    "# model = inception_v3(dropout=0.5)\n",
    "model = torch.load(model_path)\n",
    "model = model.cuda()\n",
    "data = 'cub'\n",
    "if test == 1:\n",
    "    print('evaluation on test set of %s with model: %s' %(data, model_path))\n",
    "    data = DataSet.create(data, train=False)\n",
    "    data_loader = torch.utils.data.DataLoader(\n",
    "        data.test, batch_size=64, shuffle=False, drop_last=False)\n",
    "else:\n",
    "    print('evaluation on train set of %s with model: %s' %(data, model_path))\n",
    "    data = DataSet.create(data, test=False)\n",
    "    data_loader = torch.utils.data.DataLoader(\n",
    "        data.train, batch_size=64, shuffle=False, drop_last=False)\n",
    "\n",
    "\n",
    "\n",
    "features, labels = extract_features(model, data_loader, print_freq=3, metric=None)\n",
    "\n",
    "\n",
    "# print(len(features))\n",
    "sim_mat = pairwise_similarity(features)\n",
    "print(Recall_at_ks(sim_mat, query_ids=labels, gallery_ids=labels))"
   ]
  },
  {
   "cell_type": "code",
   "execution_count": 18,
   "metadata": {
    "collapsed": true
   },
   "outputs": [],
   "source": [
    "# coding : utf-8\n",
    "from __future__ import absolute_import\n",
    "import heapq\n",
    "import numpy as np\n",
    "import random\n",
    "from utils import to_numpy\n",
    "def Recall_at_ks(sim_mat, query_ids=None, gallery_ids=None):\n",
    "    \"\"\"\n",
    "    :param sim_mat:\n",
    "    :param query_ids\n",
    "    :param gallery_ids\n",
    "\n",
    "    for the Deep Metric problem, following the evaluation table of Proxy NCA loss\n",
    "    only compute the [R@1, R@2, R@4, R@8]\n",
    "\n",
    "    fast computation via heapq\n",
    "\n",
    "    \"\"\"\n",
    "    sim_mat = to_numpy(sim_mat)\n",
    "    m, n = sim_mat.shape\n",
    "    num_max = int(1e4)\n",
    "    # Fill up default values\n",
    "    gallery_ids = np.asarray(gallery_ids)\n",
    "    if query_ids is None:\n",
    "        query_ids = np.arange(m)\n",
    "    if gallery_ids is None:\n",
    "        gallery_ids = np.arange(n)\n",
    "    # Ensure numpy array\n",
    "    if m > num_max:\n",
    "        samples = list(range(m))\n",
    "        random.shuffle(samples)\n",
    "        samples = samples[:num_max]\n",
    "        sim_mat = sim_mat[samples, :]\n",
    "        query_ids = [query_ids[k] for k in samples]\n",
    "        m = num_max\n",
    "    else:\n",
    "        query_ids = np.asarray(query_ids)\n",
    "\n",
    "    # Sort and find correct matches\n",
    "    # indice = np.argsort(sim_mat, axis=1)\n",
    "    num_valid = np.zeros(4)\n",
    "    for i in range(m):\n",
    "        x = sim_mat[i]\n",
    "        indice = heapq.nlargest(8, range(len(x)), x.take)    \n",
    "        if query_ids[i] == gallery_ids[indice[0]]:\n",
    "            num_valid += 1\n",
    "        elif query_ids[i] == gallery_ids[indice[1]]:\n",
    "            num_valid[1:] += 1\n",
    "        elif query_ids[i] in gallery_ids[indice[1:4]]:\n",
    "            num_valid[2:] += 1\n",
    "        elif query_ids[i] in gallery_ids[indice[4:]]:\n",
    "            num_valid[3] += 1\n",
    "    return num_valid/float(m)\n"
   ]
  },
  {
   "cell_type": "code",
   "execution_count": 19,
   "metadata": {},
   "outputs": [
    {
     "name": "stdout",
     "output_type": "stream",
     "text": [
      "[ 0.50405132  0.63149899  0.74375422  0.83609048]\n"
     ]
    }
   ],
   "source": [
    "print(Recall_at_ks(sim_mat, query_ids=labels, gallery_ids=labels))"
   ]
  },
  {
   "cell_type": "code",
   "execution_count": null,
   "metadata": {
    "collapsed": true
   },
   "outputs": [],
   "source": []
  }
 ],
 "metadata": {
  "kernelspec": {
   "display_name": "Python 2",
   "language": "python",
   "name": "python2"
  },
  "language_info": {
   "codemirror_mode": {
    "name": "ipython",
    "version": 2
   },
   "file_extension": ".py",
   "mimetype": "text/x-python",
   "name": "python",
   "nbconvert_exporter": "python",
   "pygments_lexer": "ipython2",
   "version": "2.7.5"
  }
 },
 "nbformat": 4,
 "nbformat_minor": 2
}
